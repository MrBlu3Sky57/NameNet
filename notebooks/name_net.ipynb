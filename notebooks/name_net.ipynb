{
 "cells": [
  {
   "cell_type": "code",
   "execution_count": 1,
   "id": "2cfeb648",
   "metadata": {},
   "outputs": [],
   "source": [
    "from net import MLP, grad_descent, parse_txt, char_tokenize, itos, stoi\n",
    "from net.util import tanh, dtanh, cross_entropy, SEED\n",
    "\n",
    "import numpy as np\n",
    "import math"
   ]
  },
  {
   "cell_type": "code",
   "execution_count": null,
   "id": "ae5c41ce",
   "metadata": {},
   "outputs": [],
   "source": [
    "# Hyper Parameters\n",
    "BLOCK_SIZE = 3\n",
    "FEATURES = 8\n",
    "VOCAB_SIZE = 27\n",
    "size = (BLOCK_SIZE * FEATURES, 32, VOCAB_SIZE)\n",
    "LR = 0.01\n",
    "ALPHA = 4e-5\n",
    "EPOCHS = 10\n",
    "ITERS = 20\n",
    "BATCH_SIZE = 300"
   ]
  },
  {
   "cell_type": "code",
   "execution_count": 35,
   "id": "487f7d10",
   "metadata": {},
   "outputs": [],
   "source": [
    "# Name data\n",
    "names = parse_txt(\"../data/names.txt\")\n",
    "xs, ys, vocab = char_tokenize(names, BLOCK_SIZE)\n",
    "str_to_int = stoi(vocab)\n",
    "int_to_str = itos(vocab)\n",
    "\n",
    "\n",
    "# Splits\n",
    "b1 = math.floor(len(xs) * 0.8)\n",
    "b2 = math.floor(len(xs) * 0.9)\n",
    "x_train = xs[:b1]\n",
    "y_train = ys[:b1]\n",
    "x_test = xs[b1:b2]\n",
    "y_test = ys[b1:b2]\n",
    "x_dev = xs[b2:]\n",
    "y_dev = ys[b2:]"
   ]
  },
  {
   "cell_type": "code",
   "execution_count": 36,
   "id": "603b628b",
   "metadata": {},
   "outputs": [],
   "source": [
    "# Initialize emb matrix\n",
    "emb = np.random.randn(len(vocab), FEATURES)\n",
    "\n",
    "# Initialize model\n",
    "name_net = MLP(size, tanh, dtanh, emb)"
   ]
  },
  {
   "cell_type": "code",
   "execution_count": 37,
   "id": "93f57084",
   "metadata": {},
   "outputs": [
    {
     "name": "stdout",
     "output_type": "stream",
     "text": [
      "epoch: 1/10 done.\n",
      "epoch: 2/10 done.\n",
      "epoch: 3/10 done.\n",
      "epoch: 4/10 done.\n",
      "epoch: 5/10 done.\n",
      "epoch: 6/10 done.\n",
      "epoch: 7/10 done.\n",
      "epoch: 8/10 done.\n",
      "epoch: 9/10 done.\n",
      "epoch: 10/10 done.\n"
     ]
    }
   ],
   "source": [
    "# Train\n",
    "grad_descent(name_net, x_train, y_train, ITERS, EPOCHS, BATCH_SIZE, LR, ALPHA)\n",
    "\n",
    "# Hyperparam Training\n",
    "# grad_descent(name_net, x_dev, y_dev, ITERS, EPOCHS, BATCH_SIZE, LR, ALPHA)"
   ]
  },
  {
   "cell_type": "code",
   "execution_count": 38,
   "id": "eac0c032",
   "metadata": {},
   "outputs": [
    {
     "data": {
      "text/plain": [
       "8.226530220832933"
      ]
     },
     "execution_count": 38,
     "metadata": {},
     "output_type": "execute_result"
    }
   ],
   "source": [
    "# Check entropy\n",
    "name_net.forward(x_train)\n",
    "preds = np.max(name_net.layers[-1].value, axis=1)\n",
    "float(cross_entropy(preds, y_train))"
   ]
  },
  {
   "cell_type": "code",
   "execution_count": 39,
   "id": "c55124da",
   "metadata": {},
   "outputs": [
    {
     "name": "stdout",
     "output_type": "stream",
     "text": [
      "ada\n",
      "tayan\n",
      "jayan\n",
      "bran\n",
      "luhlnin\n",
      "than\n",
      "halygnalynnnahanti\n",
      "rhnnila\n",
      "kis\n",
      "admeran\n"
     ]
    }
   ],
   "source": [
    "# Generate\n",
    "for _ in range(10):\n",
    "    input = [str_to_int['.']] * BLOCK_SIZE # SEED\n",
    "    out = \"\"\n",
    "    while '.' not in out:\n",
    "        name_net.forward(np.array(input))\n",
    "        probs = name_net.layers[-1].value\n",
    "        i = np.random.choice(VOCAB_SIZE, p=probs.flatten())\n",
    "        out += int_to_str[i]\n",
    "        input = input[1:] + [i]\n",
    "    print(out[:-1])"
   ]
  }
 ],
 "metadata": {
  "kernelspec": {
   "display_name": "NameNet",
   "language": "python",
   "name": "python3"
  },
  "language_info": {
   "codemirror_mode": {
    "name": "ipython",
    "version": 3
   },
   "file_extension": ".py",
   "mimetype": "text/x-python",
   "name": "python",
   "nbconvert_exporter": "python",
   "pygments_lexer": "ipython3",
   "version": "3.13.2"
  }
 },
 "nbformat": 4,
 "nbformat_minor": 5
}
