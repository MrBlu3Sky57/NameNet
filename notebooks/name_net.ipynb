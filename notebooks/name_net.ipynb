{
 "cells": [
  {
   "cell_type": "code",
   "execution_count": 17,
   "id": "2cfeb648",
   "metadata": {},
   "outputs": [],
   "source": [
    "from net import MLP, train, parse_txt, char_tokenize, itos, stoi\n",
    "from net.util import tanh, dtanh, cross_entropy, SEED\n",
    "\n",
    "import numpy as np"
   ]
  },
  {
   "cell_type": "code",
   "execution_count": 18,
   "id": "ae5c41ce",
   "metadata": {},
   "outputs": [],
   "source": [
    "# Hyper Parameters\n",
    "BLOCK_SIZE = 4"
   ]
  },
  {
   "cell_type": "code",
   "execution_count": 19,
   "id": "487f7d10",
   "metadata": {},
   "outputs": [
    {
     "ename": "TypeError",
     "evalue": "'dict' object is not callable",
     "output_type": "error",
     "traceback": [
      "\u001b[31m---------------------------------------------------------------------------\u001b[39m",
      "\u001b[31mTypeError\u001b[39m                                 Traceback (most recent call last)",
      "\u001b[36mCell\u001b[39m\u001b[36m \u001b[39m\u001b[32mIn[19]\u001b[39m\u001b[32m, line 2\u001b[39m\n\u001b[32m      1\u001b[39m names = parse_txt(\u001b[33m\"\u001b[39m\u001b[33m../data/names.txt\u001b[39m\u001b[33m\"\u001b[39m)\n\u001b[32m----> \u001b[39m\u001b[32m2\u001b[39m tokens, vocab = \u001b[43mchar_tokenize\u001b[49m\u001b[43m(\u001b[49m\u001b[43mnames\u001b[49m\u001b[43m,\u001b[49m\u001b[43m \u001b[49m\u001b[43mBLOCK_SIZE\u001b[49m\u001b[43m)\u001b[49m\n",
      "\u001b[36mFile \u001b[39m\u001b[32m~/CS-Work/ML/P2/NameNet/src/net/nlp/char_tokenizer.py:17\u001b[39m, in \u001b[36mchar_tokenize\u001b[39m\u001b[34m(strings, block_size)\u001b[39m\n\u001b[32m     15\u001b[39m     inp = \u001b[33m\"\u001b[39m\u001b[33m.\u001b[39m\u001b[33m\"\u001b[39m * block_size + string + \u001b[33m\"\u001b[39m\u001b[33m.\u001b[39m\u001b[33m\"\u001b[39m * block_size\n\u001b[32m     16\u001b[39m     \u001b[38;5;28;01mfor\u001b[39;00m i \u001b[38;5;129;01min\u001b[39;00m \u001b[38;5;28mrange\u001b[39m(\u001b[38;5;28mlen\u001b[39m(inp) - block_size):\n\u001b[32m---> \u001b[39m\u001b[32m17\u001b[39m         tokens.append([\u001b[43mstr_to_int\u001b[49m\u001b[43m(\u001b[49m\u001b[43ms\u001b[49m\u001b[43m)\u001b[49m \u001b[38;5;28;01mfor\u001b[39;00m s \u001b[38;5;129;01min\u001b[39;00m \u001b[38;5;28mlist\u001b[39m(inp[i: i + block_size])])\n\u001b[32m     19\u001b[39m \u001b[38;5;28;01mreturn\u001b[39;00m np.array(tokens) , vocab\n",
      "\u001b[31mTypeError\u001b[39m: 'dict' object is not callable"
     ]
    }
   ],
   "source": [
    "names = parse_txt(\"../data/names.txt\")\n",
    "tokens, vocab = char_tokenize(names, BLOCK_SIZE)"
   ]
  }
 ],
 "metadata": {
  "kernelspec": {
   "display_name": "NameNet",
   "language": "python",
   "name": "python3"
  },
  "language_info": {
   "codemirror_mode": {
    "name": "ipython",
    "version": 3
   },
   "file_extension": ".py",
   "mimetype": "text/x-python",
   "name": "python",
   "nbconvert_exporter": "python",
   "pygments_lexer": "ipython3",
   "version": "3.13.2"
  }
 },
 "nbformat": 4,
 "nbformat_minor": 5
}
