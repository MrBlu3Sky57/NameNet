{
 "cells": [
  {
   "cell_type": "code",
   "execution_count": 1,
   "id": "2cfeb648",
   "metadata": {},
   "outputs": [],
   "source": [
    "from net import MLP, grad_descent, parse_txt, char_tokenize, itos, stoi\n",
    "from net.util import tanh, dtanh, cross_entropy, SEED\n",
    "\n",
    "import numpy as np"
   ]
  },
  {
   "cell_type": "code",
   "execution_count": 2,
   "id": "ae5c41ce",
   "metadata": {},
   "outputs": [],
   "source": [
    "# Hyper Parameters\n",
    "BLOCK_SIZE = 4\n",
    "FEATURES = 8\n",
    "VOCAB_SIZE = 27\n",
    "size = (BLOCK_SIZE * FEATURES, 48, VOCAB_SIZE)"
   ]
  },
  {
   "cell_type": "code",
   "execution_count": 3,
   "id": "487f7d10",
   "metadata": {},
   "outputs": [],
   "source": [
    "# Name data\n",
    "names = parse_txt(\"../data/names.txt\")\n",
    "xs, ys, vocab = char_tokenize(names, BLOCK_SIZE)\n",
    "str_to_int = stoi(vocab)\n",
    "int_to_str = itos(vocab)\n",
    "\n",
    "\n",
    "# Splits\n",
    "x_train = xs[:259395]\n",
    "y_train = ys[:259395]\n",
    "x_test = xs[259395:291819]\n",
    "y_test = ys[259395:291819]\n",
    "x_dev = xs[291819:]\n",
    "y_dev = ys[291819:]"
   ]
  },
  {
   "cell_type": "code",
   "execution_count": 4,
   "id": "603b628b",
   "metadata": {},
   "outputs": [],
   "source": [
    "# Initialize emb matrix\n",
    "emb = np.random.randn(len(vocab), FEATURES)\n",
    "\n",
    "# Initialize model\n",
    "name_net = MLP(size, tanh, dtanh, emb)"
   ]
  },
  {
   "cell_type": "code",
   "execution_count": 5,
   "id": "93f57084",
   "metadata": {},
   "outputs": [
    {
     "name": "stdout",
     "output_type": "stream",
     "text": [
      "epoch: 1/10 done.\n",
      "epoch: 2/10 done.\n",
      "epoch: 3/10 done.\n",
      "epoch: 4/10 done.\n",
      "epoch: 5/10 done.\n",
      "epoch: 6/10 done.\n",
      "epoch: 7/10 done.\n",
      "epoch: 8/10 done.\n",
      "epoch: 9/10 done.\n",
      "epoch: 10/10 done.\n"
     ]
    }
   ],
   "source": [
    "# Train\n",
    "grad_descent(name_net, x_train, y_train, 20, 10, 10000, 0.1, 0.1)"
   ]
  },
  {
   "cell_type": "code",
   "execution_count": 6,
   "id": "eac0c032",
   "metadata": {},
   "outputs": [
    {
     "data": {
      "text/plain": [
       "np.float64(12.797191295958468)"
      ]
     },
     "execution_count": 6,
     "metadata": {},
     "output_type": "execute_result"
    }
   ],
   "source": [
    "# Check entropy\n",
    "name_net.forward(x_train)\n",
    "preds = np.max(name_net.layers[-1].value, axis=1)\n",
    "cross_entropy(preds, y_train)"
   ]
  },
  {
   "cell_type": "code",
   "execution_count": 7,
   "id": "c55124da",
   "metadata": {},
   "outputs": [
    {
     "name": "stdout",
     "output_type": "stream",
     "text": [
      "maxdelly\n",
      "jelle\n",
      "sowmilia\n",
      "marah\n",
      "kally\n",
      "dariel\n",
      "jyars\n",
      "samayn\n",
      "kemila\n",
      "laciah\n"
     ]
    }
   ],
   "source": [
    "# Generate\n",
    "for _ in range(10):\n",
    "    input = [str_to_int['.']] * BLOCK_SIZE # SEED\n",
    "    out = \"\"\n",
    "    while '.' not in out:\n",
    "        name_net.forward(np.array(input))\n",
    "        probs = name_net.layers[-1].value\n",
    "        i = np.random.choice(VOCAB_SIZE, p=probs.flatten())\n",
    "        out += int_to_str[i]\n",
    "        input = input[1:] + [i]\n",
    "    print(out[:-1])"
   ]
  }
 ],
 "metadata": {
  "kernelspec": {
   "display_name": "NameNet",
   "language": "python",
   "name": "python3"
  },
  "language_info": {
   "codemirror_mode": {
    "name": "ipython",
    "version": 3
   },
   "file_extension": ".py",
   "mimetype": "text/x-python",
   "name": "python",
   "nbconvert_exporter": "python",
   "pygments_lexer": "ipython3",
   "version": "3.13.2"
  }
 },
 "nbformat": 4,
 "nbformat_minor": 5
}
